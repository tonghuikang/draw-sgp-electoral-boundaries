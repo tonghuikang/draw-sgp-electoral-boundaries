{
 "cells": [
  {
   "cell_type": "code",
   "execution_count": 1,
   "metadata": {},
   "outputs": [],
   "source": [
    "from bs4 import BeautifulSoup\n",
    "import pandas as pd"
   ]
  },
  {
   "cell_type": "code",
   "execution_count": 2,
   "metadata": {},
   "outputs": [],
   "source": [
    "with open('./residents-subzone-2017.kml', 'r') as f:\n",
    "    soup = BeautifulSoup(f, 'xml')"
   ]
  },
  {
   "cell_type": "code",
   "execution_count": 3,
   "metadata": {},
   "outputs": [],
   "source": [
    "placemarks = [placemark for placemark in soup.find_all('Placemark')]"
   ]
  },
  {
   "cell_type": "code",
   "execution_count": 4,
   "metadata": {},
   "outputs": [
    {
     "name": "stdout",
     "output_type": "stream",
     "text": [
      "323\n"
     ]
    }
   ],
   "source": [
    "print(len(placemarks))"
   ]
  },
  {
   "cell_type": "code",
   "execution_count": 5,
   "metadata": {},
   "outputs": [
    {
     "data": {
      "text/plain": [
       "['kml_1',\n",
       " <snippet> </snippet>,\n",
       " <SimpleData name=\"SUBZONE_N\">MARINA SOUTH</SimpleData>,\n",
       " <SimpleData name=\"PLN_AREA_N\">MARINA SOUTH</SimpleData>,\n",
       " <SimpleData name=\"TOTAL\">0</SimpleData>,\n",
       " <SimpleData name=\"HDB\">0</SimpleData>,\n",
       " <SimpleData name=\"ONE_TO_TWO_RM\">0</SimpleData>,\n",
       " <SimpleData name=\"THREE_RM\">0</SimpleData>,\n",
       " <SimpleData name=\"FOUR_RM\">0</SimpleData>,\n",
       " <SimpleData name=\"FIVE_RM_EXEC_FLATS\">0</SimpleData>,\n",
       " <SimpleData name=\"CONDOS_OTHER_APTS\">0</SimpleData>,\n",
       " <SimpleData name=\"LANDED_PROPERTIES\">0</SimpleData>,\n",
       " <SimpleData name=\"OTHERS\">0</SimpleData>,\n",
       " <SimpleData name=\"INC_CRC\">A414A47E5AA4EDB5</SimpleData>,\n",
       " <SimpleData name=\"FMEL_UPD_D\">20170927160941</SimpleData>]"
      ]
     },
     "execution_count": 5,
     "metadata": {},
     "output_type": "execute_result"
    }
   ],
   "source": [
    "# reading one datapoint\n",
    "sample = [\n",
    "placemarks[0].get('id'),\n",
    "placemarks[0].snippet,\n",
    "# placemarks[0].description,\n",
    "placemarks[0].ExtendedData.SchemaData.find(\"SimpleData\", {\"name\":\"SUBZONE_N\"}),\n",
    "placemarks[0].ExtendedData.SchemaData.find(\"SimpleData\", {\"name\":\"PLN_AREA_N\"}),\n",
    "placemarks[0].ExtendedData.SchemaData.find(\"SimpleData\", {\"name\":\"TOTAL\"}),\n",
    "placemarks[0].ExtendedData.SchemaData.find(\"SimpleData\", {\"name\":\"HDB\"}),\n",
    "placemarks[0].ExtendedData.SchemaData.find(\"SimpleData\", {\"name\":\"ONE_TO_TWO_RM\"}),\n",
    "placemarks[0].ExtendedData.SchemaData.find(\"SimpleData\", {\"name\":\"THREE_RM\"}),\n",
    "placemarks[0].ExtendedData.SchemaData.find(\"SimpleData\", {\"name\":\"FOUR_RM\"}),\n",
    "placemarks[0].ExtendedData.SchemaData.find(\"SimpleData\", {\"name\":\"FIVE_RM_EXEC_FLATS\"}),\n",
    "placemarks[0].ExtendedData.SchemaData.find(\"SimpleData\", {\"name\":\"CONDOS_OTHER_APTS\"}),\n",
    "placemarks[0].ExtendedData.SchemaData.find(\"SimpleData\", {\"name\":\"LANDED_PROPERTIES\"}),\n",
    "placemarks[0].ExtendedData.SchemaData.find(\"SimpleData\", {\"name\":\"OTHERS\"}),\n",
    "placemarks[0].ExtendedData.SchemaData.find(\"SimpleData\", {\"name\":\"INC_CRC\"}),\n",
    "placemarks[0].ExtendedData.SchemaData.find(\"SimpleData\", {\"name\":\"FMEL_UPD_D\"}),\n",
    "# placemarks[0].Polygon.outerBoundaryIs.LinearRing\n",
    "]\n",
    "sample"
   ]
  },
  {
   "cell_type": "code",
   "execution_count": 6,
   "metadata": {},
   "outputs": [],
   "source": [
    "placemark_data = []\n",
    "\n",
    "for placemark in placemarks:\n",
    "    placemark_data.append([\n",
    "        placemark.get('id'),\n",
    "        int(placemark.ExtendedData.SchemaData.find(\"SimpleData\", {\"name\":\"TOTAL\"}).text),\n",
    "        placemark.ExtendedData.SchemaData.find(\"SimpleData\", {\"name\":\"SUBZONE_N\"}).text,\n",
    "        placemark.ExtendedData.SchemaData.find(\"SimpleData\", {\"name\":\"PLN_AREA_N\"}).text\n",
    "    ])"
   ]
  },
  {
   "cell_type": "code",
   "execution_count": 7,
   "metadata": {},
   "outputs": [],
   "source": [
    "df = pd.DataFrame(placemark_data, columns=[\"id\", \"TOTAL\", \"SUBZONE_N\", \"PLN_AREA_N\"])"
   ]
  },
  {
   "cell_type": "code",
   "execution_count": 8,
   "metadata": {},
   "outputs": [
    {
     "data": {
      "text/plain": [
       "3966030"
      ]
     },
     "execution_count": 8,
     "metadata": {},
     "output_type": "execute_result"
    }
   ],
   "source": [
    "sum(df[\"TOTAL\"])"
   ]
  },
  {
   "cell_type": "code",
   "execution_count": null,
   "metadata": {},
   "outputs": [],
   "source": []
  }
 ],
 "metadata": {
  "kernelspec": {
   "display_name": "Python 3",
   "language": "python",
   "name": "python3"
  },
  "language_info": {
   "codemirror_mode": {
    "name": "ipython",
    "version": 3
   },
   "file_extension": ".py",
   "mimetype": "text/x-python",
   "name": "python",
   "nbconvert_exporter": "python",
   "pygments_lexer": "ipython3",
   "version": "3.7.1"
  }
 },
 "nbformat": 4,
 "nbformat_minor": 2
}
