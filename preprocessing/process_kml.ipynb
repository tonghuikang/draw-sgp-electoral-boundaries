{
 "cells": [
  {
   "cell_type": "code",
   "execution_count": 1,
   "metadata": {},
   "outputs": [],
   "source": [
    "import numpy as np\n",
    "import pandas as pd\n",
    "import matplotlib.pyplot as plt\n",
    "from bs4 import BeautifulSoup"
   ]
  },
  {
   "cell_type": "code",
   "execution_count": 2,
   "metadata": {},
   "outputs": [],
   "source": [
    "with open('./residents-subzone-2017.kml', 'r') as f:\n",
    "    soup = BeautifulSoup(f, 'xml')"
   ]
  },
  {
   "cell_type": "code",
   "execution_count": 3,
   "metadata": {},
   "outputs": [],
   "source": [
    "placemarks = [placemark for placemark in soup.find_all('Placemark')]"
   ]
  },
  {
   "cell_type": "code",
   "execution_count": 4,
   "metadata": {},
   "outputs": [
    {
     "name": "stdout",
     "output_type": "stream",
     "text": [
      "323\n"
     ]
    }
   ],
   "source": [
    "print(len(placemarks))"
   ]
  },
  {
   "cell_type": "code",
   "execution_count": 5,
   "metadata": {},
   "outputs": [
    {
     "data": {
      "text/plain": [
       "['kml_1',\n",
       " <snippet> </snippet>,\n",
       " <SimpleData name=\"SUBZONE_N\">MARINA SOUTH</SimpleData>,\n",
       " <SimpleData name=\"PLN_AREA_N\">MARINA SOUTH</SimpleData>,\n",
       " <SimpleData name=\"TOTAL\">0</SimpleData>,\n",
       " <SimpleData name=\"HDB\">0</SimpleData>,\n",
       " <SimpleData name=\"ONE_TO_TWO_RM\">0</SimpleData>,\n",
       " <SimpleData name=\"THREE_RM\">0</SimpleData>,\n",
       " <SimpleData name=\"FOUR_RM\">0</SimpleData>,\n",
       " <SimpleData name=\"FIVE_RM_EXEC_FLATS\">0</SimpleData>,\n",
       " <SimpleData name=\"CONDOS_OTHER_APTS\">0</SimpleData>,\n",
       " <SimpleData name=\"LANDED_PROPERTIES\">0</SimpleData>,\n",
       " <SimpleData name=\"OTHERS\">0</SimpleData>,\n",
       " <SimpleData name=\"INC_CRC\">A414A47E5AA4EDB5</SimpleData>,\n",
       " <SimpleData name=\"FMEL_UPD_D\">20170927160941</SimpleData>]"
      ]
     },
     "execution_count": 5,
     "metadata": {},
     "output_type": "execute_result"
    }
   ],
   "source": [
    "# reading one datapoint\n",
    "sample = [\n",
    "placemarks[0].get('id'),\n",
    "placemarks[0].snippet,\n",
    "# placemarks[0].description,\n",
    "placemarks[0].ExtendedData.SchemaData.find(\"SimpleData\", {\"name\":\"SUBZONE_N\"}),\n",
    "placemarks[0].ExtendedData.SchemaData.find(\"SimpleData\", {\"name\":\"PLN_AREA_N\"}),\n",
    "placemarks[0].ExtendedData.SchemaData.find(\"SimpleData\", {\"name\":\"TOTAL\"}),\n",
    "placemarks[0].ExtendedData.SchemaData.find(\"SimpleData\", {\"name\":\"HDB\"}),\n",
    "placemarks[0].ExtendedData.SchemaData.find(\"SimpleData\", {\"name\":\"ONE_TO_TWO_RM\"}),\n",
    "placemarks[0].ExtendedData.SchemaData.find(\"SimpleData\", {\"name\":\"THREE_RM\"}),\n",
    "placemarks[0].ExtendedData.SchemaData.find(\"SimpleData\", {\"name\":\"FOUR_RM\"}),\n",
    "placemarks[0].ExtendedData.SchemaData.find(\"SimpleData\", {\"name\":\"FIVE_RM_EXEC_FLATS\"}),\n",
    "placemarks[0].ExtendedData.SchemaData.find(\"SimpleData\", {\"name\":\"CONDOS_OTHER_APTS\"}),\n",
    "placemarks[0].ExtendedData.SchemaData.find(\"SimpleData\", {\"name\":\"LANDED_PROPERTIES\"}),\n",
    "placemarks[0].ExtendedData.SchemaData.find(\"SimpleData\", {\"name\":\"OTHERS\"}),\n",
    "placemarks[0].ExtendedData.SchemaData.find(\"SimpleData\", {\"name\":\"INC_CRC\"}),\n",
    "placemarks[0].ExtendedData.SchemaData.find(\"SimpleData\", {\"name\":\"FMEL_UPD_D\"}),\n",
    "# [[float(num) for num in pt.split(\",\")] \n",
    "#  for pt in placemarks[0].Polygon.outerBoundaryIs.LinearRing.text.strip().split(\" \")]\n",
    "]\n",
    "sample"
   ]
  },
  {
   "cell_type": "code",
   "execution_count": 6,
   "metadata": {},
   "outputs": [],
   "source": [
    "placemark_data = []\n",
    "\n",
    "for placemark in placemarks:\n",
    "    placemark_data.append([\n",
    "        placemark.get('id'),\n",
    "        int(placemark.ExtendedData.SchemaData.find(\"SimpleData\", {\"name\":\"TOTAL\"}).text),\n",
    "        placemark.ExtendedData.SchemaData.find(\"SimpleData\", {\"name\":\"SUBZONE_N\"}).text,\n",
    "        placemark.ExtendedData.SchemaData.find(\"SimpleData\", {\"name\":\"PLN_AREA_N\"}).text,\n",
    "        [[float(num) for num in pt.split(\",\")] \n",
    "         for pt in placemark.Polygon.outerBoundaryIs.LinearRing.coordinates.text.strip().split(\" \")]\n",
    "    ])"
   ]
  },
  {
   "cell_type": "code",
   "execution_count": 7,
   "metadata": {},
   "outputs": [],
   "source": [
    "df = pd.DataFrame(placemark_data, columns=[\"id\", \"TOTAL\", \"SUBZONE_N\", \"PLN_AREA_N\", \"boundary\"])"
   ]
  },
  {
   "cell_type": "code",
   "execution_count": 8,
   "metadata": {},
   "outputs": [
    {
     "data": {
      "text/plain": [
       "3966030"
      ]
     },
     "execution_count": 8,
     "metadata": {},
     "output_type": "execute_result"
    }
   ],
   "source": [
    "sum(df[\"TOTAL\"])"
   ]
  },
  {
   "cell_type": "markdown",
   "metadata": {},
   "source": [
    "#### Calculate the centre of district"
   ]
  },
  {
   "cell_type": "code",
   "execution_count": 9,
   "metadata": {},
   "outputs": [],
   "source": [
    "def centre_boundary(boundary):\n",
    "    x_mean = sum([b[0] for b in boundary])/len(boundary)\n",
    "    y_mean = sum([b[1] for b in boundary])/len(boundary)\n",
    "    return x_mean, y_mean"
   ]
  },
  {
   "cell_type": "code",
   "execution_count": 10,
   "metadata": {},
   "outputs": [],
   "source": [
    "df[\"x_centre\"] = np.nan\n",
    "df[\"y_centre\"] = np.nan"
   ]
  },
  {
   "cell_type": "code",
   "execution_count": 11,
   "metadata": {},
   "outputs": [],
   "source": [
    "for index, row in df.iterrows():\n",
    "    x_mean, y_mean = centre_boundary(row[\"boundary\"])\n",
    "    df.at[index, \"x_centre\"] = x_mean\n",
    "    df.at[index, \"y_centre\"] = y_mean"
   ]
  },
  {
   "cell_type": "code",
   "execution_count": 12,
   "metadata": {},
   "outputs": [
    {
     "data": {
      "text/plain": [
       "322"
      ]
     },
     "execution_count": 12,
     "metadata": {},
     "output_type": "execute_result"
    }
   ],
   "source": [
    "index"
   ]
  },
  {
   "cell_type": "code",
   "execution_count": 13,
   "metadata": {},
   "outputs": [
    {
     "data": {
      "text/html": [
       "<div>\n",
       "<style scoped>\n",
       "    .dataframe tbody tr th:only-of-type {\n",
       "        vertical-align: middle;\n",
       "    }\n",
       "\n",
       "    .dataframe tbody tr th {\n",
       "        vertical-align: top;\n",
       "    }\n",
       "\n",
       "    .dataframe thead th {\n",
       "        text-align: right;\n",
       "    }\n",
       "</style>\n",
       "<table border=\"1\" class=\"dataframe\">\n",
       "  <thead>\n",
       "    <tr style=\"text-align: right;\">\n",
       "      <th></th>\n",
       "      <th>id</th>\n",
       "      <th>TOTAL</th>\n",
       "      <th>SUBZONE_N</th>\n",
       "      <th>PLN_AREA_N</th>\n",
       "      <th>boundary</th>\n",
       "      <th>x_centre</th>\n",
       "      <th>y_centre</th>\n",
       "    </tr>\n",
       "  </thead>\n",
       "  <tbody>\n",
       "    <tr>\n",
       "      <th>220</th>\n",
       "      <td>kml_221</td>\n",
       "      <td>10</td>\n",
       "      <td>TENGAH</td>\n",
       "      <td>TENGAH</td>\n",
       "      <td>[[103.737563612352, 1.34650111506271, 0.0], [1...</td>\n",
       "      <td>103.730850</td>\n",
       "      <td>1.360458</td>\n",
       "    </tr>\n",
       "    <tr>\n",
       "      <th>85</th>\n",
       "      <td>kml_86</td>\n",
       "      <td>1480</td>\n",
       "      <td>ORANGE GROVE</td>\n",
       "      <td>NEWTON</td>\n",
       "      <td>[[103.833555332241, 1.30892426861334, 0.0], [1...</td>\n",
       "      <td>103.829930</td>\n",
       "      <td>1.309160</td>\n",
       "    </tr>\n",
       "    <tr>\n",
       "      <th>306</th>\n",
       "      <td>kml_307</td>\n",
       "      <td>0</td>\n",
       "      <td>THE WHARVES</td>\n",
       "      <td>SEMBAWANG</td>\n",
       "      <td>[[103.817322358724, 1.47077230004906, 0.0], [1...</td>\n",
       "      <td>103.823162</td>\n",
       "      <td>1.465767</td>\n",
       "    </tr>\n",
       "    <tr>\n",
       "      <th>54</th>\n",
       "      <td>kml_55</td>\n",
       "      <td>7710</td>\n",
       "      <td>COMMONWEALTH</td>\n",
       "      <td>QUEENSTOWN</td>\n",
       "      <td>[[103.802265683522, 1.30719592282808, 0.0], [1...</td>\n",
       "      <td>103.799661</td>\n",
       "      <td>1.307069</td>\n",
       "    </tr>\n",
       "    <tr>\n",
       "      <th>305</th>\n",
       "      <td>kml_306</td>\n",
       "      <td>38240</td>\n",
       "      <td>YISHUN SOUTH</td>\n",
       "      <td>YISHUN</td>\n",
       "      <td>[[103.843988464051, 1.42315977899469, 0.0], [1...</td>\n",
       "      <td>103.838473</td>\n",
       "      <td>1.419002</td>\n",
       "    </tr>\n",
       "  </tbody>\n",
       "</table>\n",
       "</div>"
      ],
      "text/plain": [
       "          id  TOTAL     SUBZONE_N  PLN_AREA_N  \\\n",
       "220  kml_221     10        TENGAH      TENGAH   \n",
       "85    kml_86   1480  ORANGE GROVE      NEWTON   \n",
       "306  kml_307      0   THE WHARVES   SEMBAWANG   \n",
       "54    kml_55   7710  COMMONWEALTH  QUEENSTOWN   \n",
       "305  kml_306  38240  YISHUN SOUTH      YISHUN   \n",
       "\n",
       "                                              boundary    x_centre  y_centre  \n",
       "220  [[103.737563612352, 1.34650111506271, 0.0], [1...  103.730850  1.360458  \n",
       "85   [[103.833555332241, 1.30892426861334, 0.0], [1...  103.829930  1.309160  \n",
       "306  [[103.817322358724, 1.47077230004906, 0.0], [1...  103.823162  1.465767  \n",
       "54   [[103.802265683522, 1.30719592282808, 0.0], [1...  103.799661  1.307069  \n",
       "305  [[103.843988464051, 1.42315977899469, 0.0], [1...  103.838473  1.419002  "
      ]
     },
     "execution_count": 13,
     "metadata": {},
     "output_type": "execute_result"
    }
   ],
   "source": [
    "df.sample(5)"
   ]
  },
  {
   "cell_type": "code",
   "execution_count": 14,
   "metadata": {},
   "outputs": [
    {
     "data": {
      "image/png": "[encoded data removed]",
      "text/plain": [
       "<Figure size 1008x504 with 1 Axes>"
      ]
     },
     "metadata": {
      "needs_background": "light"
     },
     "output_type": "display_data"
    }
   ],
   "source": [
    "plt.figure(figsize=(14,7))\n",
    "plt.scatter(df[\"x_centre\"], df[\"y_centre\"], df[\"TOTAL\"]/500)\n",
    "plt.show()"
   ]
  },
  {
   "cell_type": "code",
   "execution_count": null,
   "metadata": {},
   "outputs": [],
   "source": []
  }
 ],
 "metadata": {
  "kernelspec": {
   "display_name": "Python 3",
   "language": "python",
   "name": "python3"
  },
  "language_info": {
   "codemirror_mode": {
    "name": "ipython",
    "version": 3
   },
   "file_extension": ".py",
   "mimetype": "text/x-python",
   "name": "python",
   "nbconvert_exporter": "python",
   "pygments_lexer": "ipython3",
   "version": "3.7.1"
  }
 },
 "nbformat": 4,
 "nbformat_minor": 2
}
