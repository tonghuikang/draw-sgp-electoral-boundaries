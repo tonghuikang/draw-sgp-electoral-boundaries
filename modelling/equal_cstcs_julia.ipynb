{
 "cells": [
  {
   "cell_type": "code",
   "execution_count": 2,
   "metadata": {},
   "outputs": [],
   "source": [
    "print()"
   ]
  },
  {
   "cell_type": "code",
   "execution_count": null,
   "metadata": {},
   "outputs": [],
   "source": [
    "# %%time\n",
    "# LOAD PACKAGES\n",
    "# -------------\n",
    "# import Pkg; Pkg.add(\"CSV\"); Pkg.add(\"GLPK\"); Pkg.add(\"JuMP\")\n",
    "using JuMP  # Need to say it whenever we use JuMP\n",
    "using GLPK  # Loading the GLPK module for using its solver\n",
    "using CSV\n",
    "\n",
    "# MODEL CONSTRUCTION\n",
    "# ------------------\n",
    "capstone = Model(with_optimizer(GLPK.Optimizer, tm_lim=10*1000)) \n",
    "# We also set the time limit, in milliseconds"
   ]
  },
  {
   "cell_type": "code",
   "execution_count": null,
   "metadata": {},
   "outputs": [],
   "source": [
    "# INPUT DATA\n",
    "# ----------\n",
    "\n",
    "# Data on student preferences\n",
    "unit_costs = CSV.read(\"../preprocessing/unit_costs.csv\",header=false)\n",
    "print(size(unit_costs))\n",
    "\n",
    "# Data on Pillars\n",
    "capacities = CSV.read(\"../preprocessing/capacities.csv\",header=false)\n",
    "print(size(capacities))\n",
    "\n",
    "# Data on Pillars\n",
    "supplies = CSV.read(\"../preprocessing/supplies.csv\",header=false)\n",
    "print(size(supplies))\n",
    "\n",
    "length = size(unit_costs)[1]-1\n",
    "iterlen = 1:length"
   ]
  },
  {
   "cell_type": "code",
   "execution_count": null,
   "metadata": {},
   "outputs": [],
   "source": [
    "# VARIABLES\n",
    "# ---------\n",
    "\n",
    "# binary variable taking value 1 if there is a flow\n",
    "@variable(capstone, flowing[i=iterlen,j=iterlen] >= 0, Bin)\n",
    "\n",
    "# the flow\n",
    "@variable(capstone, flow[i=iterlen,j=iterlen] >= 0, Int)  \n",
    "\n",
    "print()"
   ]
  },
  {
   "cell_type": "code",
   "execution_count": null,
   "metadata": {},
   "outputs": [],
   "source": [
    "# CONSTRAINTS\n",
    "# -----------\n",
    "\n",
    "# flow can be nonzero only if flowing is 1\n",
    "@constraint(capstone, smaller_1[i=iterlen, j=iterlen], \n",
    "    flow[i,j] <= flowing[i,j]*9999999)\n",
    "\n",
    "# flow can be nonzero only if capacity is nonzero\n",
    "@constraint(capstone, smaller_2[i=iterlen, j=iterlen], \n",
    "    flow[i,j] <= capacities[i,j]*9999999)\n",
    "\n",
    "# # Every node can only have one output\n",
    "@constraint(capstone, output[i=iterlen], \n",
    "    sum(flowing[i,j] for j = iterlen) == 1)\n",
    "\n",
    "# Every node needs to exhaust its supply\n",
    "@constraint(capstone, supplied[i=iterlen], \n",
    "    sum(flow[i,j] for j = iterlen) - sum(flow[j,i] for j = iterlen) == supplies[i,1])\n",
    "\n",
    "print()"
   ]
  },
  {
   "cell_type": "code",
   "execution_count": null,
   "metadata": {},
   "outputs": [],
   "source": [
    "# OBJECTIVE\n",
    "# ---------\n",
    "\n",
    "# Maximize the total utility\n",
    "@objective(capstone, Min, \n",
    "    sum(unit_costs[i,j]*flowing[i,j] for i = iterlen, j = iterlen))\n",
    "\n",
    "print()"
   ]
  },
  {
   "cell_type": "code",
   "execution_count": null,
   "metadata": {},
   "outputs": [],
   "source": [
    "# SOLVE IT\n",
    "# --------\n",
    "\n",
    "status = optimize!(capstone)"
   ]
  },
  {
   "cell_type": "code",
   "execution_count": null,
   "metadata": {},
   "outputs": [],
   "source": [
    "# DISPLAY THE RESULTS\n",
    "# -------------------\n",
    "\n",
    "println(\"Objective value: \", JuMP.objective_value(capstone)) "
   ]
  },
  {
   "cell_type": "code",
   "execution_count": null,
   "metadata": {},
   "outputs": [],
   "source": []
  }
 ],
 "metadata": {
  "kernelspec": {
   "display_name": "Julia 1.3.0",
   "language": "julia",
   "name": "julia-1.3"
  },
  "language_info": {
   "file_extension": ".jl",
   "mimetype": "application/julia",
   "name": "julia",
   "version": "1.3.0"
  }
 },
 "nbformat": 4,
 "nbformat_minor": 2
}
