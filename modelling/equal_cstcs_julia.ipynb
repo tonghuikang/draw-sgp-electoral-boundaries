{
 "cells": [
  {
   "cell_type": "code",
   "execution_count": 1,
   "metadata": {},
   "outputs": [],
   "source": [
    "print()"
   ]
  },
  {
   "cell_type": "code",
   "execution_count": 2,
   "metadata": {},
   "outputs": [],
   "source": [
    "# LOAD PACKAGES\n",
    "# -------------\n",
    "# import Pkg; Pkg.add(\"CSV\"); Pkg.add(\"GLPK\"); Pkg.add(\"JuMP\")\n",
    "using JuMP  # Need to say it whenever we use JuMP\n",
    "using GLPK  # Loading the GLPK module for using its solver\n",
    "using CSV"
   ]
  },
  {
   "cell_type": "code",
   "execution_count": 10,
   "metadata": {},
   "outputs": [
    {
     "data": {
      "text/latex": [
       "$$ \\begin{alignat*}{1}\\text{feasibility}\\\\\n",
       "\\text{Subject to} \\quad\\end{alignat*}\n",
       " $$"
      ],
      "text/plain": [
       "A JuMP Model\n",
       "Feasibility problem with:\n",
       "Variables: 0\n",
       "Model mode: AUTOMATIC\n",
       "CachingOptimizer state: EMPTY_OPTIMIZER\n",
       "Solver name: GLPK"
      ]
     },
     "execution_count": 10,
     "metadata": {},
     "output_type": "execute_result"
    }
   ],
   "source": [
    "# MODEL CONSTRUCTION\n",
    "# ------------------\n",
    "capstone = Model(with_optimizer(GLPK.Optimizer, tm_lim=10*1000)) \n",
    "# We also set the time limit, in milliseconds"
   ]
  },
  {
   "cell_type": "code",
   "execution_count": 15,
   "metadata": {},
   "outputs": [
    {
     "name": "stdout",
     "output_type": "stream",
     "text": [
      "(6, 6)(6, 6)(6, 1)"
     ]
    },
    {
     "data": {
      "text/plain": [
       "1:5"
      ]
     },
     "execution_count": 15,
     "metadata": {},
     "output_type": "execute_result"
    }
   ],
   "source": [
    "# INPUT DATA\n",
    "# ----------\n",
    "\n",
    "# Data on student preferences\n",
    "unit_costs = CSV.read(\"../preprocessing/unit_costs.csv\",header=false)\n",
    "print(size(unit_costs))\n",
    "\n",
    "# Data on Pillars\n",
    "capacities = CSV.read(\"../preprocessing/capacities.csv\",header=false)\n",
    "print(size(capacities))\n",
    "\n",
    "# Data on Pillars\n",
    "supplies = CSV.read(\"../preprocessing/supplies.csv\",header=false)\n",
    "print(size(supplies))\n",
    "\n",
    "length = size(unit_costs)[1]-1\n",
    "iterlen = 1:length"
   ]
  },
  {
   "cell_type": "code",
   "execution_count": 16,
   "metadata": {},
   "outputs": [],
   "source": [
    "# VARIABLES\n",
    "# ---------\n",
    "\n",
    "# the flow\n",
    "@variable(capstone, flow[i=iterlen,j=iterlen] >= 0, Int)  \n",
    "\n",
    "# binary variable taking value 1 if there is a flow\n",
    "@variable(capstone, flowing[i=iterlen,j=iterlen], Bin)\n",
    "\n",
    "print()"
   ]
  },
  {
   "cell_type": "code",
   "execution_count": 17,
   "metadata": {},
   "outputs": [],
   "source": [
    "# CONSTRAINTS\n",
    "# -----------\n",
    "\n",
    "# flow can be nonzero only if flowing is 1\n",
    "@constraint(capstone, smaller_1[i=iterlen, j=iterlen], \n",
    "    flow[i,j] <= flowing[i,j]*9999999)\n",
    "\n",
    "# flow can be nonzero only if capacity is nonzero\n",
    "@constraint(capstone, smaller_2[i=iterlen, j=iterlen],\n",
    "    flowing[i,j] <= capacities[i,j])\n",
    "\n",
    "# # Every node can only have one output\n",
    "@constraint(capstone, output[i=iterlen],\n",
    "    sum(flowing[i,j] for j = iterlen) <= 1)\n",
    "\n",
    "# # Every node needs to exhaust its supply\n",
    "@constraint(capstone, supplied[i=iterlen],\n",
    "    sum(flow[i,j] for j = iterlen) - sum(flow[j,i] for j = iterlen) >= supplies[i,1])\n",
    "\n",
    "print()"
   ]
  },
  {
   "cell_type": "code",
   "execution_count": 22,
   "metadata": {},
   "outputs": [
    {
     "name": "stdout",
     "output_type": "stream",
     "text": [
      "Min 0.13071583043221874 flow[1,1] + 0.645553129731741 flow[1,2] + 0.14590703656024112 flow[1,3] + 0.40875024711491015 flow[1,4] + 1.0756329242588578 flow[1,5] + 0.2598680125917515 flow[2,1] + 0.5466734446190455 flow[2,2] + 0.6123989363728397 flow[2,3] + 1.2162056648110726 flow[2,4] + 1.3174071575250084 flow[2,5] + 0.08435989323537346 flow[3,1] + 0.47080458722650975 flow[3,2] + 1.1423938319129114 flow[3,3] + 0.17293122874903874 flow[3,4] + 0.5845396978256493 flow[3,5] + 1.0973674708141525 flow[4,1] + 0.2864354408696484 flow[4,2] + 0.4625145506838141 flow[4,3] + 1.6149406129858435 flow[4,4] + 0.15652769681523246 flow[4,5] + 0.4323884807130002 flow[5,1] + 0.49768267603182376 flow[5,2] + 0.5589519324648493 flow[5,3] + 0.48972247119015117 flow[5,4] + 2.579328067174117 flow[5,5]\n",
      "Subject to\n",
      " flow[1,2] + flow[1,3] + flow[1,4] + flow[1,5] - flow[2,1] - flow[3,1] - flow[4,1] - flow[5,1] ≥ 1.0\n",
      " flow[2,1] + flow[2,3] + flow[2,4] + flow[2,5] - flow[1,2] - flow[3,2] - flow[4,2] - flow[5,2] ≥ 2.0\n",
      " flow[3,1] + flow[3,2] + flow[3,4] + flow[3,5] - flow[1,3] - flow[2,3] - flow[4,3] - flow[5,3] ≥ 3.0\n",
      " flow[4,1] + flow[4,2] + flow[4,3] + flow[4,5] - flow[1,4] - flow[2,4] - flow[3,4] - flow[5,4] ≥ 4.0\n",
      " flow[5,1] + flow[5,2] + flow[5,3] + flow[5,4] - flow[1,5] - flow[2,5] - flow[3,5] - flow[4,5] ≥ 5.0\n",
      " flow[1,1] - 9.999999e6 flowing[1,1] ≤ 0.0\n",
      " flow[1,2] - 9.999999e6 flowing[1,2] ≤ 0.0\n",
      " flow[1,3] - 9.999999e6 flowing[1,3] ≤ 0.0\n",
      " flow[1,4] - 9.999999e6 flowing[1,4] ≤ 0.0\n",
      " flow[1,5] - 9.999999e6 flowing[1,5] ≤ 0.0\n",
      " flow[2,1] - 9.999999e6 flowing[2,1] ≤ 0.0\n",
      " flow[2,2] - 9.999999e6 flowing[2,2] ≤ 0.0\n",
      " flow[2,3] - 9.999999e6 flowing[2,3] ≤ 0.0\n",
      " flow[2,4] - 9.999999e6 flowing[2,4] ≤ 0.0\n",
      " flow[2,5] - 9.999999e6 flowing[2,5] ≤ 0.0\n",
      " flow[3,1] - 9.999999e6 flowing[3,1] ≤ 0.0\n",
      " flow[3,2] - 9.999999e6 flowing[3,2] ≤ 0.0\n",
      " flow[3,3] - 9.999999e6 flowing[3,3] ≤ 0.0\n",
      " flow[3,4] - 9.999999e6 flowing[3,4] ≤ 0.0\n",
      " flow[3,5] - 9.999999e6 flowing[3,5] ≤ 0.0\n",
      " flow[4,1] - 9.999999e6 flowing[4,1] ≤ 0.0\n",
      " flow[4,2] - 9.999999e6 flowing[4,2] ≤ 0.0\n",
      " flow[4,3] - 9.999999e6 flowing[4,3] ≤ 0.0\n",
      " flow[4,4] - 9.999999e6 flowing[4,4] ≤ 0.0\n",
      " flow[4,5] - 9.999999e6 flowing[4,5] ≤ 0.0\n",
      " flow[5,1] - 9.999999e6 flowing[5,1] ≤ 0.0\n",
      " flow[5,2] - 9.999999e6 flowing[5,2] ≤ 0.0\n",
      " flow[5,3] - 9.999999e6 flowing[5,3] ≤ 0.0\n",
      " flow[5,4] - 9.999999e6 flowing[5,4] ≤ 0.0\n",
      " flow[5,5] - 9.999999e6 flowing[5,5] ≤ 0.0\n",
      " flowing[1,1] ≤ 0.0\n",
      " flowing[1,2] ≤ 1.0\n",
      " flowing[1,3] ≤ 0.0\n",
      " flowing[1,4] ≤ 0.0\n",
      " flowing[1,5] ≤ 0.0\n",
      " flowing[2,1] ≤ 1.0\n",
      " flowing[2,2] ≤ 0.0\n",
      " flowing[2,3] ≤ 1.0\n",
      " flowing[2,4] ≤ 0.0\n",
      " flowing[2,5] ≤ 0.0\n",
      " flowing[3,1] ≤ 0.0\n",
      " flowing[3,2] ≤ 1.0\n",
      " flowing[3,3] ≤ 0.0\n",
      " flowing[3,4] ≤ 1.0\n",
      " flowing[3,5] ≤ 0.0\n",
      " flowing[4,1] ≤ 0.0\n",
      " flowing[4,2] ≤ 0.0\n",
      " flowing[4,3] ≤ 1.0\n",
      " flowing[4,4] ≤ 0.0\n",
      " flowing[4,5] ≤ 1.0\n",
      " flowing[5,1] ≤ 0.0\n",
      " flowing[5,2] ≤ 0.0\n",
      " flowing[5,3] ≤ 0.0\n",
      " flowing[5,4] ≤ 1.0\n",
      " flowing[5,5] ≤ 0.0\n",
      " flowing[1,1] + flowing[1,2] + flowing[1,3] + flowing[1,4] + flowing[1,5] ≤ 1.0\n",
      " flowing[2,1] + flowing[2,2] + flowing[2,3] + flowing[2,4] + flowing[2,5] ≤ 1.0\n",
      " flowing[3,1] + flowing[3,2] + flowing[3,3] + flowing[3,4] + flowing[3,5] ≤ 1.0\n",
      " flowing[4,1] + flowing[4,2] + flowing[4,3] + flowing[4,4] + flowing[4,5] ≤ 1.0\n",
      " flowing[5,1] + flowing[5,2] + flowing[5,3] + flowing[5,4] + flowing[5,5] ≤ 1.0\n",
      " flow[1,1] ≥ 0.0\n",
      " flow[1,2] ≥ 0.0\n",
      " flow[1,3] ≥ 0.0\n",
      " flow[1,4] ≥ 0.0\n",
      " flow[1,5] ≥ 0.0\n",
      " flow[2,1] ≥ 0.0\n",
      " flow[2,2] ≥ 0.0\n",
      " flow[2,3] ≥ 0.0\n",
      " flow[2,4] ≥ 0.0\n",
      " flow[2,5] ≥ 0.0\n",
      " flow[3,1] ≥ 0.0\n",
      " flow[3,2] ≥ 0.0\n",
      " flow[3,3] ≥ 0.0\n",
      " flow[3,4] ≥ 0.0\n",
      " flow[3,5] ≥ 0.0\n",
      " flow[4,1] ≥ 0.0\n",
      " flow[4,2] ≥ 0.0\n",
      " flow[4,3] ≥ 0.0\n",
      " flow[4,4] ≥ 0.0\n",
      " flow[4,5] ≥ 0.0\n",
      " flow[5,1] ≥ 0.0\n",
      " flow[5,2] ≥ 0.0\n",
      " flow[5,3] ≥ 0.0\n",
      " flow[5,4] ≥ 0.0\n",
      " flow[5,5] ≥ 0.0\n",
      " flow[1,1] integer\n",
      " flow[1,2] integer\n",
      " flow[1,3] integer\n",
      " flow[1,4] integer\n",
      " flow[1,5] integer\n",
      " flow[2,1] integer\n",
      " flow[2,2] integer\n",
      " flow[2,3] integer\n",
      " flow[2,4] integer\n",
      " flow[2,5] integer\n",
      " flow[3,1] integer\n",
      " flow[3,2] integer\n",
      " flow[3,3] integer\n",
      " flow[3,4] integer\n",
      " flow[3,5] integer\n",
      " flow[4,1] integer\n",
      " flow[4,2] integer\n",
      " flow[4,3] integer\n",
      " flow[4,4] integer\n",
      " flow[4,5] integer\n",
      " flow[5,1] integer\n",
      " flow[5,2] integer\n",
      " flow[5,3] integer\n",
      " flow[5,4] integer\n",
      " flow[5,5] integer\n",
      " flowing[1,1] binary\n",
      " flowing[1,2] binary\n",
      " flowing[1,3] binary\n",
      " flowing[1,4] binary\n",
      " flowing[1,5] binary\n",
      " flowing[2,1] binary\n",
      " flowing[2,2] binary\n",
      " flowing[2,3] binary\n",
      " flowing[2,4] binary\n",
      " flowing[2,5] binary\n",
      " flowing[3,1] binary\n",
      " flowing[3,2] binary\n",
      " flowing[3,3] binary\n",
      " flowing[3,4] binary\n",
      " flowing[3,5] binary\n",
      " flowing[4,1] binary\n",
      " flowing[4,2] binary\n",
      " flowing[4,3] binary\n",
      " flowing[4,4] binary\n",
      " flowing[4,5] binary\n",
      " flowing[5,1] binary\n",
      " flowing[5,2] binary\n",
      " flowing[5,3] binary\n",
      " flowing[5,4] binary\n",
      " flowing[5,5] binary\n"
     ]
    }
   ],
   "source": [
    "# OBJECTIVE\n",
    "# ---------\n",
    "\n",
    "# Maximize the total utility\n",
    "@objective(capstone, Min, \n",
    "    sum(unit_costs[i,j]*flow[i,j] for i = iterlen, j = iterlen))\n",
    "\n",
    "print(capstone) # Shows the model constructed in a human-readable form\n",
    "print()"
   ]
  },
  {
   "cell_type": "code",
   "execution_count": 19,
   "metadata": {},
   "outputs": [],
   "source": [
    "# SOLVE IT\n",
    "# --------\n",
    "\n",
    "status = optimize!(capstone)"
   ]
  },
  {
   "cell_type": "code",
   "execution_count": 20,
   "metadata": {},
   "outputs": [
    {
     "ename": "MathOptInterface.ResultIndexBoundsError{MathOptInterface.ObjectiveValue}",
     "evalue": "Result index of attribute MathOptInterface.ObjectiveValue(1) out of bounds. There are currently 0 solution(s) in the model.",
     "output_type": "error",
     "traceback": [
      "Result index of attribute MathOptInterface.ObjectiveValue(1) out of bounds. There are currently 0 solution(s) in the model.",
      "",
      "Stacktrace:",
      " [1] check_result_index_bounds at /Users/hkmac/.julia/packages/MathOptInterface/C1XBe/src/attributes.jl:133 [inlined]",
      " [2] get at /Users/hkmac/.julia/packages/GLPK/J1b5G/src/MOI_wrapper.jl:1698 [inlined]",
      " [3] get(::MathOptInterface.Bridges.LazyBridgeOptimizer{GLPK.Optimizer}, ::MathOptInterface.ObjectiveValue) at /Users/hkmac/.julia/packages/MathOptInterface/C1XBe/src/Bridges/bridge_optimizer.jl:646",
      " [4] get(::MathOptInterface.Utilities.CachingOptimizer{MathOptInterface.AbstractOptimizer,MathOptInterface.Utilities.UniversalFallback{MathOptInterface.Utilities.Model{Float64}}}, ::MathOptInterface.ObjectiveValue) at /Users/hkmac/.julia/packages/MathOptInterface/C1XBe/src/Utilities/cachingoptimizer.jl:493",
      " [5] _moi_get_result(::MathOptInterface.Utilities.CachingOptimizer{MathOptInterface.AbstractOptimizer,MathOptInterface.Utilities.UniversalFallback{MathOptInterface.Utilities.Model{Float64}}}, ::MathOptInterface.ObjectiveValue) at /Users/hkmac/.julia/packages/JuMP/MsUSY/src/JuMP.jl:633",
      " [6] get(::Model, ::MathOptInterface.ObjectiveValue) at /Users/hkmac/.julia/packages/JuMP/MsUSY/src/JuMP.jl:646",
      " [7] objective_value(::Model) at /Users/hkmac/.julia/packages/JuMP/MsUSY/src/objective.jl:25",
      " [8] top-level scope at In[20]:1"
     ]
    }
   ],
   "source": [
    "# DISPLAY THE RESULTS\n",
    "# -------------------\n",
    "\n",
    "println(\"Objective value: \", JuMP.objective_value(capstone)) "
   ]
  },
  {
   "cell_type": "code",
   "execution_count": null,
   "metadata": {},
   "outputs": [],
   "source": []
  }
 ],
 "metadata": {
  "kernelspec": {
   "display_name": "Julia 1.3.0",
   "language": "julia",
   "name": "julia-1.3"
  },
  "language_info": {
   "file_extension": ".jl",
   "mimetype": "application/julia",
   "name": "julia",
   "version": "1.3.0"
  }
 },
 "nbformat": 4,
 "nbformat_minor": 2
}
