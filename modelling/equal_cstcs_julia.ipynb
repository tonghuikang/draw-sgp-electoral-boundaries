{
 "cells": [
  {
   "cell_type": "code",
   "execution_count": 1,
   "metadata": {},
   "outputs": [],
   "source": [
    "print()"
   ]
  },
  {
   "cell_type": "code",
   "execution_count": 2,
   "metadata": {},
   "outputs": [],
   "source": [
    "# LOAD PACKAGES\n",
    "# -------------\n",
    "# import Pkg; Pkg.add(\"CSV\"); Pkg.add(\"GLPK\"); Pkg.add(\"JuMP\")\n",
    "using JuMP  # Need to say it whenever we use JuMP\n",
    "using CSV\n",
    "using Cbc"
   ]
  },
  {
   "cell_type": "code",
   "execution_count": 18,
   "metadata": {},
   "outputs": [
    {
     "data": {
      "text/latex": [
       "$$ \\begin{alignat*}{1}\\text{feasibility}\\\\\n",
       "\\text{Subject to} \\quad\\end{alignat*}\n",
       " $$"
      ],
      "text/plain": [
       "A JuMP Model\n",
       "Feasibility problem with:\n",
       "Variables: 0\n",
       "Model mode: AUTOMATIC\n",
       "CachingOptimizer state: EMPTY_OPTIMIZER\n",
       "Solver name: COIN Branch-and-Cut (Cbc)"
      ]
     },
     "execution_count": 18,
     "metadata": {},
     "output_type": "execute_result"
    }
   ],
   "source": [
    "# MODEL CONSTRUCTION\n",
    "# ------------------\n",
    "capstone = Model(with_optimizer(Cbc.Optimizer, tm_lim=20*1000)) \n",
    "# We also set the time limit, in milliseconds"
   ]
  },
  {
   "cell_type": "code",
   "execution_count": 19,
   "metadata": {},
   "outputs": [
    {
     "name": "stdout",
     "output_type": "stream",
     "text": [
      "(6, 6)(6, 6)(6, 1)"
     ]
    },
    {
     "data": {
      "text/plain": [
       "1:6"
      ]
     },
     "execution_count": 19,
     "metadata": {},
     "output_type": "execute_result"
    }
   ],
   "source": [
    "# INPUT DATA\n",
    "# ----------\n",
    "\n",
    "# Data on student preferences\n",
    "unit_costs = CSV.read(\"../preprocessing/unit_costs.csv\",header=false)\n",
    "print(size(unit_costs))\n",
    "\n",
    "# Data on Pillars\n",
    "capacities = CSV.read(\"../preprocessing/capacities.csv\",header=false)\n",
    "print(size(capacities))\n",
    "\n",
    "# Data on Pillars\n",
    "supplies = CSV.read(\"../preprocessing/supplies.csv\",header=false)\n",
    "print(size(supplies))\n",
    "\n",
    "length = size(unit_costs)[1]\n",
    "iterlen = 1:length"
   ]
  },
  {
   "cell_type": "code",
   "execution_count": 20,
   "metadata": {},
   "outputs": [],
   "source": [
    "# VARIABLES\n",
    "# ---------\n",
    "\n",
    "# the flow\n",
    "@variable(capstone, flow[i=iterlen,j=iterlen] >= 0, Int)  \n",
    "\n",
    "# binary variable taking value 1 if there is a flow\n",
    "@variable(capstone, flowing[i=iterlen,j=iterlen], Bin)\n",
    "\n",
    "print()"
   ]
  },
  {
   "cell_type": "code",
   "execution_count": 21,
   "metadata": {},
   "outputs": [],
   "source": [
    "# CONSTRAINTS\n",
    "# -----------\n",
    "\n",
    "# flow can be nonzero only if flowing is 1\n",
    "@constraint(capstone, smaller_1[i=iterlen, j=iterlen], \n",
    "    flow[i,j] <= flowing[i,j]*9999999)\n",
    "\n",
    "# flowing can be nonzero only if capacity is nonzero\n",
    "@constraint(capstone, smaller_2[i=iterlen, j=iterlen],\n",
    "    flowing[i,j] <= capacities[i,j])\n",
    "\n",
    "# Every node can only have one output\n",
    "@constraint(capstone, output[i=1:(length-1)],\n",
    "    sum(flowing[i,j] for j = iterlen) == 1)\n",
    "\n",
    "# Number of cstcs\n",
    "@constraint(capstone, num_cstcs, \n",
    "    sum(flowing[j,length] for j = iterlen) <= 2)\n",
    "\n",
    "# Every node needs to exhaust its supply\n",
    "@constraint(capstone, supplied[i=iterlen],\n",
    "    sum(flow[i,j] for j = iterlen) - sum(flow[j,i] for j = iterlen) == supplies[i,1])\n",
    "\n",
    "print()"
   ]
  },
  {
   "cell_type": "code",
   "execution_count": 22,
   "metadata": {
    "scrolled": true
   },
   "outputs": [],
   "source": [
    "# OBJECTIVE\n",
    "# ---------\n",
    "\n",
    "# Maximize the total utility\n",
    "@objective(capstone, Min, \n",
    "    sum(unit_costs[i,j]*flow[i,j] for i = iterlen, j = iterlen))\n",
    "\n",
    "# print(capstone) # Shows the model constructed in a human-readable form\n",
    "print()"
   ]
  },
  {
   "cell_type": "code",
   "execution_count": 23,
   "metadata": {},
   "outputs": [
    {
     "name": "stdout",
     "output_type": "stream",
     "text": [
      "Welcome to the CBC MILP Solver \n",
      "Version: 2.10.3 \n",
      "Build Date: Oct  7 2019 \n",
      "\n",
      "command line - Cbc_C_Interface -tm_lim 20000 -solve -quit (default strategy 1)\n",
      "No match for tm_lim - ? for list of commands\n",
      "No match for 20000 - ? for list of commands\n",
      "Continuous objective value is 118 - 0.00 seconds\n",
      "Cgl0002I 23 variables fixed\n",
      "Cgl0003I 0 fixed, 4 tightened bounds, 4 strengthened rows, 0 substitutions\n",
      "Cgl0003I 0 fixed, 4 tightened bounds, 4 strengthened rows, 0 substitutions\n",
      "Cgl0003I 0 fixed, 6 tightened bounds, 6 strengthened rows, 0 substitutions\n",
      "Cgl0003I 0 fixed, 6 tightened bounds, 6 strengthened rows, 0 substitutions\n",
      "Cgl0003I 0 fixed, 4 tightened bounds, 4 strengthened rows, 0 substitutions\n",
      "Cgl0003I 0 fixed, 5 tightened bounds, 5 strengthened rows, 0 substitutions\n",
      "Cgl0003I 0 fixed, 5 tightened bounds, 5 strengthened rows, 0 substitutions\n",
      "Cgl0003I 0 fixed, 5 tightened bounds, 5 strengthened rows, 0 substitutions\n",
      "Cgl0003I 0 fixed, 5 tightened bounds, 5 strengthened rows, 0 substitutions\n",
      "Cgl0004I processed model has 23 rows, 24 columns (24 integer (11 of which binary)) and 66 elements\n",
      "Cbc0012I Integer solution of 243 found by DiveCoefficient after 0 iterations and 0 nodes (0.01 seconds)\n",
      "Cbc0038I Full problem 23 rows 24 columns, reduced to 8 rows 6 columns\n",
      "Cbc0012I Integer solution of 187 found by DiveCoefficient after 20 iterations and 0 nodes (0.02 seconds)\n",
      "Cbc0031I 5 added rows had average density of 7.4\n",
      "Cbc0013I At root node, 5 cuts changed objective from 118 to 187 in 5 passes\n",
      "Cbc0014I Cut generator 0 (Probing) - 15 row cuts average 2.0 elements, 9 column cuts (9 active)  in 0.001 seconds - new frequency is 1\n",
      "Cbc0014I Cut generator 1 (Gomory) - 11 row cuts average 9.5 elements, 0 column cuts (0 active)  in 0.000 seconds - new frequency is 1\n",
      "Cbc0014I Cut generator 2 (Knapsack) - 0 row cuts average 0.0 elements, 0 column cuts (0 active)  in 0.001 seconds - new frequency is -100\n",
      "Cbc0014I Cut generator 3 (Clique) - 0 row cuts average 0.0 elements, 0 column cuts (0 active)  in 0.000 seconds - new frequency is -100\n",
      "Cbc0014I Cut generator 4 (MixedIntegerRounding2) - 0 row cuts average 0.0 elements, 0 column cuts (0 active)  in 0.000 seconds - new frequency is -100\n",
      "Cbc0014I Cut generator 5 (FlowCover) - 0 row cuts average 0.0 elements, 0 column cuts (0 active)  in 0.000 seconds - new frequency is -100\n",
      "Cbc0014I Cut generator 6 (TwoMirCuts) - 19 row cuts average 6.7 elements, 0 column cuts (0 active)  in 0.001 seconds - new frequency is 1\n",
      "Cbc0014I Cut generator 7 (ZeroHalf) - 1 row cuts average 4.0 elements, 0 column cuts (0 active)  in 0.000 seconds - new frequency is -100\n",
      "Cbc0001I Search completed - best objective 187, took 20 iterations and 0 nodes (0.02 seconds)\n",
      "Cbc0035I Maximum depth 0, 0 variables fixed on reduced cost\n",
      "Cuts at root node changed objective from 118 to 187\n",
      "Probing was tried 5 times and created 24 cuts of which 0 were active after adding rounds of cuts (0.001 seconds)\n",
      "Gomory was tried 5 times and created 11 cuts of which 0 were active after adding rounds of cuts (0.000 seconds)\n",
      "Knapsack was tried 5 times and created 0 cuts of which 0 were active after adding rounds of cuts (0.001 seconds)\n",
      "Clique was tried 5 times and created 0 cuts of which 0 were active after adding rounds of cuts (0.000 seconds)\n",
      "MixedIntegerRounding2 was tried 5 times and created 0 cuts of which 0 were active after adding rounds of cuts (0.000 seconds)\n",
      "FlowCover was tried 5 times and created 0 cuts of which 0 were active after adding rounds of cuts (0.000 seconds)\n",
      "TwoMirCuts was tried 5 times and created 19 cuts of which 0 were active after adding rounds of cuts (0.001 seconds)\n",
      "ZeroHalf was tried 1 times and created 1 cuts of which 0 were active after adding rounds of cuts (0.000 seconds)\n",
      "\n",
      "Result - Optimal solution found\n",
      "\n",
      "Objective value:                187.00000000\n",
      "Enumerated nodes:               0\n",
      "Total iterations:               20\n",
      "Time (CPU seconds):             0.02\n",
      "Time (Wallclock seconds):       0.03\n",
      "\n",
      "Total time (CPU seconds):       0.02   (Wallclock seconds):       0.03\n",
      "\n"
     ]
    }
   ],
   "source": [
    "# SOLVE IT\n",
    "# --------\n",
    "\n",
    "status = optimize!(capstone)\n",
    "print()"
   ]
  },
  {
   "cell_type": "code",
   "execution_count": 24,
   "metadata": {},
   "outputs": [
    {
     "name": "stdout",
     "output_type": "stream",
     "text": [
      "Objective value: 187.0\n",
      "flow = 2-dimensional DenseAxisArray{Float64,2,...} with index sets:\n",
      "    Dimension 1, 1:6\n",
      "    Dimension 2, 1:6\n",
      "And data, a 6×6 Array{Float64,2}:\n",
      " 0.0  0.0  0.0  0.0  0.0  6.0\n",
      " 5.0  0.0  0.0  0.0  0.0  0.0\n",
      " 0.0  3.0  0.0  0.0  0.0  0.0\n",
      " 0.0  0.0  0.0  0.0  4.0  0.0\n",
      " 0.0  0.0  0.0  0.0  0.0  9.0\n",
      " 0.0  0.0  0.0  0.0  0.0  0.0\n",
      "flowing = 2-dimensional DenseAxisArray{Float64,2,...} with index sets:\n",
      "    Dimension 1, 1:6\n",
      "    Dimension 2, 1:6\n",
      "And data, a 6×6 Array{Float64,2}:\n",
      " 0.0  0.0  0.0  0.0  0.0  1.0\n",
      " 1.0  0.0  0.0  0.0  0.0  0.0\n",
      " 0.0  1.0  0.0  0.0  0.0  0.0\n",
      " 0.0  0.0  0.0  0.0  1.0  0.0\n",
      " 0.0  0.0  0.0  0.0  0.0  1.0\n",
      " 0.0  0.0  0.0  0.0  0.0  0.0\n"
     ]
    }
   ],
   "source": [
    "# DISPLAY THE RESULTS\n",
    "# -------------------\n",
    "\n",
    "println(\"Objective value: \", JuMP.objective_value(capstone))\n",
    "println(\"flow = \", JuMP.value.(flow))\n",
    "println(\"flowing = \", JuMP.value.(flowing))"
   ]
  },
  {
   "cell_type": "code",
   "execution_count": null,
   "metadata": {},
   "outputs": [],
   "source": []
  },
  {
   "cell_type": "code",
   "execution_count": null,
   "metadata": {},
   "outputs": [],
   "source": []
  }
 ],
 "metadata": {
  "kernelspec": {
   "display_name": "Julia 1.3.0",
   "language": "julia",
   "name": "julia-1.3"
  },
  "language_info": {
   "file_extension": ".jl",
   "mimetype": "application/julia",
   "name": "julia",
   "version": "1.3.0"
  }
 },
 "nbformat": 4,
 "nbformat_minor": 2
}
