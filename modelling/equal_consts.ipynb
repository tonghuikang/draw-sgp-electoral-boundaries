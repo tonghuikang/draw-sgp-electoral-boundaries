{
 "cells": [
  {
   "cell_type": "code",
   "execution_count": 1,
   "metadata": {},
   "outputs": [],
   "source": [
    "# https://developers.google.com/optimization/introduction/python\n",
    "# to do: \n",
    "# all or nothing flow - maximum one inflow and one outflow only\n",
    "# prune variables for the model (so that it is not 100k variables)\n",
    "# plotting - reduce clutter"
   ]
  },
  {
   "cell_type": "code",
   "execution_count": 2,
   "metadata": {},
   "outputs": [],
   "source": [
    "%reset -sf\n",
    "import numpy as np\n",
    "import pandas as pd\n",
    "import networkx as nx\n",
    "import matplotlib.pyplot as plt\n",
    "from ortools.linear_solver import pywraplp"
   ]
  },
  {
   "cell_type": "markdown",
   "metadata": {},
   "source": [
    "# Define problem"
   ]
  },
  {
   "cell_type": "code",
   "execution_count": 3,
   "metadata": {},
   "outputs": [],
   "source": [
    "df = pd.read_pickle(\"../preprocessing/processed_dataframe.pkl\")\n",
    "# df"
   ]
  },
  {
   "cell_type": "code",
   "execution_count": 4,
   "metadata": {},
   "outputs": [],
   "source": [
    "nodes = pd.DataFrame()\n",
    "nodes[\"supplies\"] = df[\"TOTAL\"]\n",
    "nodes[\"x\"] = df[\"x_centre\"]\n",
    "nodes[\"y\"] = df[\"y_centre\"]\n",
    "\n",
    "start_nodes = []\n",
    "end_nodes   = []\n",
    "unit_costs  = []\n",
    "for i,row in df.iterrows():\n",
    "    for adj, cst in zip(row[\"adjacent\"], row[\"shared_param\"]):\n",
    "        start_nodes.append(i)\n",
    "        end_nodes.append(adj)\n",
    "        unit_costs.append(cst)\n",
    "\n",
    "edges = pd.DataFrame()\n",
    "edges[\"start_nodes\"] = start_nodes\n",
    "edges[\"end_nodes\"]   = end_nodes\n",
    "edges[\"unit_costs\"]  = unit_costs\n",
    "edges[\"capacities\"]  = [9999999]*len(start_nodes) # disabled\n",
    "edges[\"flows\"]       = [0]*len(start_nodes)\n",
    "edges[\"flowing\"]     = [0]*len(start_nodes)\n",
    "edges[\"names\"]       = \"x\"+edges[[\"start_nodes\",\n",
    "                                  \"end_nodes\"]].astype(str).apply('-'.join, axis=1)\n",
    "edges.index = edges[\"names\"]\n",
    "N = len(nodes) # the number of nodes at init"
   ]
  },
  {
   "cell_type": "code",
   "execution_count": null,
   "metadata": {},
   "outputs": [
    {
     "data": {
      "text/html": [
       "<div>\n",
       "<style scoped>\n",
       "    .dataframe tbody tr th:only-of-type {\n",
       "        vertical-align: middle;\n",
       "    }\n",
       "\n",
       "    .dataframe tbody tr th {\n",
       "        vertical-align: top;\n",
       "    }\n",
       "\n",
       "    .dataframe thead th {\n",
       "        text-align: right;\n",
       "    }\n",
       "</style>\n",
       "<table border=\"1\" class=\"dataframe\">\n",
       "  <thead>\n",
       "    <tr style=\"text-align: right;\">\n",
       "      <th></th>\n",
       "      <th>start_nodes</th>\n",
       "      <th>end_nodes</th>\n",
       "      <th>unit_costs</th>\n",
       "      <th>capacities</th>\n",
       "      <th>flows</th>\n",
       "      <th>flowing</th>\n",
       "      <th>names</th>\n",
       "    </tr>\n",
       "    <tr>\n",
       "      <th>names</th>\n",
       "      <th></th>\n",
       "      <th></th>\n",
       "      <th></th>\n",
       "      <th></th>\n",
       "      <th></th>\n",
       "      <th></th>\n",
       "      <th></th>\n",
       "    </tr>\n",
       "  </thead>\n",
       "  <tbody>\n",
       "    <tr>\n",
       "      <th>x184-172</th>\n",
       "      <td>184</td>\n",
       "      <td>172</td>\n",
       "      <td>0.004475</td>\n",
       "      <td>9999999</td>\n",
       "      <td>0</td>\n",
       "      <td>0</td>\n",
       "      <td>x184-172</td>\n",
       "    </tr>\n",
       "    <tr>\n",
       "      <th>x190-221</th>\n",
       "      <td>190</td>\n",
       "      <td>221</td>\n",
       "      <td>0.014177</td>\n",
       "      <td>9999999</td>\n",
       "      <td>0</td>\n",
       "      <td>0</td>\n",
       "      <td>x190-221</td>\n",
       "    </tr>\n",
       "    <tr>\n",
       "      <th>x260-310</th>\n",
       "      <td>260</td>\n",
       "      <td>310</td>\n",
       "      <td>0.017209</td>\n",
       "      <td>9999999</td>\n",
       "      <td>0</td>\n",
       "      <td>0</td>\n",
       "      <td>x260-310</td>\n",
       "    </tr>\n",
       "    <tr>\n",
       "      <th>x303-294</th>\n",
       "      <td>303</td>\n",
       "      <td>294</td>\n",
       "      <td>0.005171</td>\n",
       "      <td>9999999</td>\n",
       "      <td>0</td>\n",
       "      <td>0</td>\n",
       "      <td>x303-294</td>\n",
       "    </tr>\n",
       "    <tr>\n",
       "      <th>x45-48</th>\n",
       "      <td>45</td>\n",
       "      <td>48</td>\n",
       "      <td>0.015239</td>\n",
       "      <td>9999999</td>\n",
       "      <td>0</td>\n",
       "      <td>0</td>\n",
       "      <td>x45-48</td>\n",
       "    </tr>\n",
       "  </tbody>\n",
       "</table>\n",
       "</div>"
      ],
      "text/plain": [
       "          start_nodes  end_nodes  unit_costs  capacities  flows  flowing  \\\n",
       "names                                                                      \n",
       "x184-172          184        172    0.004475     9999999      0        0   \n",
       "x190-221          190        221    0.014177     9999999      0        0   \n",
       "x260-310          260        310    0.017209     9999999      0        0   \n",
       "x303-294          303        294    0.005171     9999999      0        0   \n",
       "x45-48             45         48    0.015239     9999999      0        0   \n",
       "\n",
       "             names  \n",
       "names               \n",
       "x184-172  x184-172  \n",
       "x190-221  x190-221  \n",
       "x260-310  x260-310  \n",
       "x303-294  x303-294  \n",
       "x45-48      x45-48  "
      ]
     },
     "execution_count": 5,
     "metadata": {},
     "output_type": "execute_result"
    }
   ],
   "source": [
    "edges.sample(5)"
   ]
  },
  {
   "cell_type": "markdown",
   "metadata": {},
   "source": [
    "# Augment nodes to a common sink"
   ]
  },
  {
   "cell_type": "code",
   "execution_count": null,
   "metadata": {},
   "outputs": [],
   "source": [
    "def augment_nodes(nodes, edges):\n",
    "    for i,ss in enumerate(nodes[\"supplies\"]):\n",
    "        edges.loc[len(edges)] = [i, len(nodes), 0, 9999999, 0, 0,\n",
    "                                 \"x\"+str(i)+\"-\"+str(len(nodes))]\n",
    "    nodes.loc[len(nodes)] = [-sum(nodes[\"supplies\"]), 103.5, 1.2]\n",
    "    edges.index = edges[\"names\"]\n",
    "    return nodes, edges"
   ]
  },
  {
   "cell_type": "code",
   "execution_count": null,
   "metadata": {},
   "outputs": [],
   "source": [
    "nodes, edges = augment_nodes(nodes, edges)\n",
    "# nodes\n",
    "# edges"
   ]
  },
  {
   "cell_type": "markdown",
   "metadata": {},
   "source": [
    "# Generate adjacency matrix"
   ]
  },
  {
   "cell_type": "code",
   "execution_count": null,
   "metadata": {},
   "outputs": [],
   "source": [
    "def get_adjacency_matrix(edges):\n",
    "    start_nodes = edges[\"start_nodes\"]\n",
    "    end_nodes = edges[\"end_nodes\"]\n",
    "    unit_costs = edges[\"unit_costs\"]\n",
    "    capacities = edges[\"capacities\"]\n",
    "    flows = edges[\"flows\"]\n",
    "    flowing = edges[\"flowing\"]\n",
    "    names = edges[\"names\"]\n",
    "    \n",
    "    matrix_unit_costs = [[0 for _ in range(N+1)] for _ in range(N+1)]\n",
    "    matrix_capacities = [[0 for _ in range(N+1)] for _ in range(N+1)]\n",
    "    matrix_flows      = [[0 for _ in range(N+1)] for _ in range(N+1)]\n",
    "    matrix_flowing    = [[0 for _ in range(N+1)] for _ in range(N+1)]\n",
    "    matrix_names      = [[\"x\"+str(i)+\"-\"+str(j)\n",
    "                          for i in range(N+1)] \n",
    "                         for j in range(N+1)]\n",
    "    \n",
    "    for x,y,z,c,f,g in zip(start_nodes, end_nodes, unit_costs, capacities, flows, flowing):\n",
    "        matrix_unit_costs[x][y] = z\n",
    "        matrix_capacities[x][y] = c\n",
    "        matrix_flows     [x][y] = f\n",
    "        matrix_flowing   [x][y] = g\n",
    "        \n",
    "    for y,x,z,c,f,g in zip(start_nodes, end_nodes, unit_costs, capacities, flows, flowing):\n",
    "        matrix_unit_costs[x][y] = z\n",
    "        matrix_capacities[x][y] = c\n",
    "        matrix_flows     [x][y] = f\n",
    "        matrix_flowing   [x][y] = g\n",
    "\n",
    "    return matrix_unit_costs, matrix_capacities, matrix_flows, matrix_names, matrix_flowing\n",
    "\n",
    "(matrix_unit_costs, matrix_capacities, \n",
    " matrix_flows, matrix_names, matrix_flowing) = get_adjacency_matrix(edges)"
   ]
  },
  {
   "cell_type": "code",
   "execution_count": null,
   "metadata": {},
   "outputs": [],
   "source": [
    "# matrix_unit_costs, matrix_capacities, matrix_flows, matrix_names"
   ]
  },
  {
   "cell_type": "markdown",
   "metadata": {},
   "source": [
    "# Visualisation"
   ]
  },
  {
   "cell_type": "code",
   "execution_count": null,
   "metadata": {},
   "outputs": [
    {
     "data": {
      "text/html": [
       "<div>\n",
       "<style scoped>\n",
       "    .dataframe tbody tr th:only-of-type {\n",
       "        vertical-align: middle;\n",
       "    }\n",
       "\n",
       "    .dataframe tbody tr th {\n",
       "        vertical-align: top;\n",
       "    }\n",
       "\n",
       "    .dataframe thead th {\n",
       "        text-align: right;\n",
       "    }\n",
       "</style>\n",
       "<table border=\"1\" class=\"dataframe\">\n",
       "  <thead>\n",
       "    <tr style=\"text-align: right;\">\n",
       "      <th></th>\n",
       "      <th>start_nodes</th>\n",
       "      <th>end_nodes</th>\n",
       "      <th>unit_costs</th>\n",
       "      <th>capacities</th>\n",
       "      <th>flows</th>\n",
       "      <th>flowing</th>\n",
       "      <th>names</th>\n",
       "    </tr>\n",
       "    <tr>\n",
       "      <th>names</th>\n",
       "      <th></th>\n",
       "      <th></th>\n",
       "      <th></th>\n",
       "      <th></th>\n",
       "      <th></th>\n",
       "      <th></th>\n",
       "      <th></th>\n",
       "    </tr>\n",
       "  </thead>\n",
       "  <tbody>\n",
       "    <tr>\n",
       "      <th>x218-229</th>\n",
       "      <td>218</td>\n",
       "      <td>229</td>\n",
       "      <td>0.004190</td>\n",
       "      <td>9999999</td>\n",
       "      <td>0</td>\n",
       "      <td>0</td>\n",
       "      <td>x218-229</td>\n",
       "    </tr>\n",
       "    <tr>\n",
       "      <th>x187-56</th>\n",
       "      <td>187</td>\n",
       "      <td>56</td>\n",
       "      <td>0.011054</td>\n",
       "      <td>9999999</td>\n",
       "      <td>0</td>\n",
       "      <td>0</td>\n",
       "      <td>x187-56</td>\n",
       "    </tr>\n",
       "    <tr>\n",
       "      <th>x58-125</th>\n",
       "      <td>58</td>\n",
       "      <td>125</td>\n",
       "      <td>0.023051</td>\n",
       "      <td>9999999</td>\n",
       "      <td>0</td>\n",
       "      <td>0</td>\n",
       "      <td>x58-125</td>\n",
       "    </tr>\n",
       "    <tr>\n",
       "      <th>x33-31</th>\n",
       "      <td>33</td>\n",
       "      <td>31</td>\n",
       "      <td>0.002571</td>\n",
       "      <td>9999999</td>\n",
       "      <td>0</td>\n",
       "      <td>0</td>\n",
       "      <td>x33-31</td>\n",
       "    </tr>\n",
       "    <tr>\n",
       "      <th>x58-197</th>\n",
       "      <td>58</td>\n",
       "      <td>197</td>\n",
       "      <td>0.015183</td>\n",
       "      <td>9999999</td>\n",
       "      <td>0</td>\n",
       "      <td>0</td>\n",
       "      <td>x58-197</td>\n",
       "    </tr>\n",
       "  </tbody>\n",
       "</table>\n",
       "</div>"
      ],
      "text/plain": [
       "          start_nodes  end_nodes  unit_costs  capacities  flows  flowing  \\\n",
       "names                                                                      \n",
       "x218-229          218        229    0.004190     9999999      0        0   \n",
       "x187-56           187         56    0.011054     9999999      0        0   \n",
       "x58-125            58        125    0.023051     9999999      0        0   \n",
       "x33-31             33         31    0.002571     9999999      0        0   \n",
       "x58-197            58        197    0.015183     9999999      0        0   \n",
       "\n",
       "             names  \n",
       "names               \n",
       "x218-229  x218-229  \n",
       "x187-56    x187-56  \n",
       "x58-125    x58-125  \n",
       "x33-31      x33-31  \n",
       "x58-197    x58-197  "
      ]
     },
     "execution_count": 10,
     "metadata": {},
     "output_type": "execute_result"
    }
   ],
   "source": [
    "edges.sample(5)"
   ]
  },
  {
   "cell_type": "code",
   "execution_count": null,
   "metadata": {},
   "outputs": [],
   "source": [
    "def plot_graph(nodes, edges):\n",
    "    start_nodes = edges[\"start_nodes\"]\n",
    "    end_nodes = edges[\"end_nodes\"]\n",
    "    unit_costs = edges[\"unit_costs\"]\n",
    "    capacities = edges[\"capacities\"]\n",
    "    flows = edges[\"flows\"]\n",
    "    names = edges[\"names\"]\n",
    "\n",
    "    G = nx.DiGraph()\n",
    "    for x,y,z,c,f,n in zip(start_nodes, end_nodes, unit_costs, capacities, flows, names):\n",
    "        G.add_edge(x, y, cost=z, capacity=c, flow=f, name=n)\n",
    "\n",
    "    labeldict = {}\n",
    "    for i,s in enumerate(nodes[\"supplies\"]):\n",
    "        labeldict[i] = s\n",
    "\n",
    "    fig, ax = plt.subplots(figsize=(14,9))\n",
    "    \n",
    "    pos=nx.circular_layout(G)\n",
    "    pos={}\n",
    "    for i,node in nodes.iterrows():\n",
    "        pos[i] = [node[\"x\"], node[\"y\"]]\n",
    "    \n",
    "    for edge in G.edges(data=True):\n",
    "        w = edge[2]['flow']\n",
    "        if w > 0:\n",
    "            size = np.log(1+w)\n",
    "            nx.draw_networkx_edge_labels(G,pos, edgelist=[(edge[0],edge[1])], \n",
    "                                         edge_labels = {(edge[0],edge[1]): w})\n",
    "            nx.draw_networkx_edges(G, pos, edgelist=[(edge[0],edge[1])], \n",
    "                                   width=size, arrowsize=size*10)\n",
    "            \n",
    "    nx.draw_networkx_nodes(G, pos, with_labels=True, font_size=15, \n",
    "                           node_size=200, \n",
    "                           node_color=\"yellow\")\n",
    "    nx.draw_networkx_labels(G, pos, labels=labeldict)\n",
    "    \n",
    "    ax.autoscale()\n",
    "    ax.set_aspect(1)\n",
    "    ax.margins(0.1)\n",
    "    plt.show()"
   ]
  },
  {
   "cell_type": "code",
   "execution_count": null,
   "metadata": {},
   "outputs": [],
   "source": [
    "plt.show()\n",
    "plot_graph(nodes, edges)"
   ]
  },
  {
   "cell_type": "markdown",
   "metadata": {},
   "source": [
    "# Min-cost flow as a linear program"
   ]
  },
  {
   "cell_type": "code",
   "execution_count": null,
   "metadata": {},
   "outputs": [],
   "source": [
    "solver = pywraplp.Solver('hello_program',\n",
    "                         pywraplp.Solver.CBC_MIXED_INTEGER_PROGRAMMING)\n",
    "\n",
    "# define variables and capacities\n",
    "infinity = solver.infinity()\n",
    "X = [[solver.NumVar(0.0, matrix_capacities[i][j], 'x'+str(i)+\"-\"+str(j)) \n",
    "      for j in range(N+1)]\n",
    "     for i in range(N+1)]\n",
    "\n",
    "# define supplies\n",
    "for i in range(N+1):\n",
    "    solver.Add(sum([X[i][j] for j in range(N+1)])\n",
    "             - sum([X[j][i] for j in range(N+1)])\n",
    "            == nodes[\"supplies\"][i])"
   ]
  },
  {
   "cell_type": "code",
   "execution_count": null,
   "metadata": {},
   "outputs": [],
   "source": [
    "B = [[solver.IntVar(0.0, 1.0, 'b'+str(i)+\"-\"+str(j)) \n",
    "      for j in range(N+1)]\n",
    "     for i in range(N+1)]"
   ]
  },
  {
   "cell_type": "code",
   "execution_count": null,
   "metadata": {},
   "outputs": [],
   "source": [
    "%%time\n",
    "for i in range(N+1):\n",
    "    for j in range(N+1):\n",
    "        if matrix_capacities[i][j] > 0:\n",
    "            solver.Add(X[i][j] <= 1200000*B[i][j])\n",
    "    solver.Add(sum([B[i][j] for j in range(N+1)]) <= 1)"
   ]
  },
  {
   "cell_type": "code",
   "execution_count": null,
   "metadata": {},
   "outputs": [],
   "source": [
    "# for i in range(N):\n",
    "#     solver.Add(X[i][N] <= 1200000*B[i][N])\n",
    "#     solver.Add(X[N][i] <= 1200000*B[N][i])\n",
    "#     solver.Add(sum([B[i][j] for j in range(N)]) <= 1)"
   ]
  },
  {
   "cell_type": "code",
   "execution_count": null,
   "metadata": {},
   "outputs": [],
   "source": [
    "# limit number of cstcs\n",
    "# solver.Add(sum([B[i][N] for i in range(N)]) <= 10) # what I want to do\n",
    "solver.Add(B[N-1][N] + B[N-2][N]+ B[N-3][N] + B[N-4][N] + B[N-5][N] <= 1) # works\n",
    "# solver.Add(sum(B[N-1][N] for i in range(5)) <= 1) # does not work\n",
    "# https://groups.google.com/forum/#!topic/or-tools-discuss/UQraf8LYJ14 ??"
   ]
  },
  {
   "cell_type": "code",
   "execution_count": null,
   "metadata": {},
   "outputs": [],
   "source": [
    "# for i in range(N):\n",
    "#     print(X[N][i].solution_value() for j in range(N)]))"
   ]
  },
  {
   "cell_type": "code",
   "execution_count": null,
   "metadata": {},
   "outputs": [],
   "source": [
    "# define objective\n",
    "solver.Minimize(sum([sum([matrix_unit_costs[i][j] * X[i][j]\n",
    "                          for j in range(N+1)])\n",
    "                     for i in range(N+1)]))\n",
    "\n",
    "solver.set_time_limit(10*1000)\n",
    "\n",
    "print('Number of variables =', solver.NumVariables())\n",
    "print('Number of constraints =', solver.NumConstraints())"
   ]
  },
  {
   "cell_type": "code",
   "execution_count": null,
   "metadata": {
    "scrolled": false
   },
   "outputs": [],
   "source": [
    "# print(solver.ExportModelAsLpFormat(False).replace('\\\\', '').replace(',_', ','), sep='\\n')"
   ]
  },
  {
   "cell_type": "code",
   "execution_count": null,
   "metadata": {},
   "outputs": [],
   "source": [
    "status = solver.Solve()"
   ]
  },
  {
   "cell_type": "markdown",
   "metadata": {},
   "source": [
    "# Visualise output"
   ]
  },
  {
   "cell_type": "code",
   "execution_count": null,
   "metadata": {},
   "outputs": [],
   "source": [
    "print('NOT_SOLVED: ', status == pywraplp.Solver.NOT_SOLVED)\n",
    "print('Stopped by time limit: ', status == pywraplp.Solver.FEASIBLE)\n",
    "print('Optimal: ', status == pywraplp.Solver.OPTIMAL)\n",
    "print('Infeasible: ', status == pywraplp.Solver.INFEASIBLE)"
   ]
  },
  {
   "cell_type": "code",
   "execution_count": null,
   "metadata": {},
   "outputs": [],
   "source": [
    "print('Solution:')\n",
    "print('Objective value =', solver.Objective().Value())\n",
    "print('')\n",
    "print('Advanced usage:')\n",
    "print('Problem solved in %f milliseconds' % solver.wall_time())\n",
    "print('Problem solved in %d iterations'   % solver.iterations())\n",
    "print('Problem solved in %d branch-and-bound nodes' % solver.nodes())"
   ]
  },
  {
   "cell_type": "code",
   "execution_count": null,
   "metadata": {},
   "outputs": [],
   "source": [
    "matrix_flows = [[x.solution_value() for x in xxx] for xxx in X]\n",
    "matrix_flowing = [[b.solution_value() for b in bbb] for bbb in B]\n",
    "for i,row in enumerate(matrix_flows):\n",
    "    for j,cell in enumerate(row):\n",
    "        if matrix_flows[i][j] > 0:\n",
    "            edges.at[\"x\"+str(i)+\"-\"+str(j),\"flows\"] = matrix_flows[i][j]\n",
    "            edges.at[\"x\"+str(i)+\"-\"+str(j),\"flowing\"] = matrix_flowing[i][j]"
   ]
  },
  {
   "cell_type": "code",
   "execution_count": null,
   "metadata": {},
   "outputs": [],
   "source": [
    "plot_graph(nodes, edges)"
   ]
  },
  {
   "cell_type": "code",
   "execution_count": null,
   "metadata": {},
   "outputs": [],
   "source": [
    "edges.sample(5)"
   ]
  },
  {
   "cell_type": "code",
   "execution_count": null,
   "metadata": {},
   "outputs": [],
   "source": [
    "edges.tail(5)"
   ]
  },
  {
   "cell_type": "code",
   "execution_count": null,
   "metadata": {},
   "outputs": [],
   "source": [
    "(  B[N-1][N].solution_value() \n",
    " + B[N-2][N].solution_value() \n",
    " + B[N-3][N].solution_value() \n",
    " + B[N-4][N].solution_value() \n",
    " + B[N-5][N].solution_value())"
   ]
  },
  {
   "cell_type": "code",
   "execution_count": null,
   "metadata": {},
   "outputs": [],
   "source": [
    "edges[edges[\"flows\"]>0].sort_index().sort_values(by=\"start_nodes\").sort_values(by=\"end_nodes\").tail(100)"
   ]
  },
  {
   "cell_type": "code",
   "execution_count": null,
   "metadata": {},
   "outputs": [],
   "source": [
    "arr = [sum([r > 0 for r in row]) for row in np.transpose(matrix_flows)][:-1]\n",
    "print(sum(arr))\n",
    "plt.plot(arr)\n",
    "plt.show()"
   ]
  },
  {
   "cell_type": "code",
   "execution_count": null,
   "metadata": {},
   "outputs": [],
   "source": [
    "arr = [sum(row) for row in np.transpose(matrix_flowing)][:-1]\n",
    "print(sum(arr))\n",
    "plt.plot(arr)\n",
    "plt.show()"
   ]
  },
  {
   "cell_type": "code",
   "execution_count": null,
   "metadata": {},
   "outputs": [],
   "source": [
    "arr = [sum(row) for row in matrix_flowing]\n",
    "print(sum(arr))\n",
    "plt.plot(arr)\n",
    "plt.show()"
   ]
  },
  {
   "cell_type": "code",
   "execution_count": null,
   "metadata": {},
   "outputs": [],
   "source": [
    "arr = [sum([r > 0 for r in row]) for row in matrix_flows]\n",
    "print(sum(arr))\n",
    "plt.plot(arr)\n",
    "plt.show()"
   ]
  },
  {
   "cell_type": "code",
   "execution_count": null,
   "metadata": {},
   "outputs": [],
   "source": [
    "index = [sum([r > 0 for r in row]) for row in matrix_flows].index(2)\n",
    "index"
   ]
  },
  {
   "cell_type": "code",
   "execution_count": null,
   "metadata": {},
   "outputs": [],
   "source": [
    "edges[edges[\"end_nodes\"] == index]"
   ]
  },
  {
   "cell_type": "code",
   "execution_count": null,
   "metadata": {},
   "outputs": [],
   "source": [
    "edges[edges[\"start_nodes\"] == index]"
   ]
  },
  {
   "cell_type": "code",
   "execution_count": null,
   "metadata": {},
   "outputs": [],
   "source": [
    "nodes.loc[index]"
   ]
  },
  {
   "cell_type": "code",
   "execution_count": null,
   "metadata": {},
   "outputs": [],
   "source": [
    "sum(nodes[\"supplies\"])"
   ]
  },
  {
   "cell_type": "code",
   "execution_count": null,
   "metadata": {},
   "outputs": [],
   "source": []
  }
 ],
 "metadata": {
  "kernelspec": {
   "display_name": "Python 3",
   "language": "python",
   "name": "python3"
  },
  "language_info": {
   "codemirror_mode": {
    "name": "ipython",
    "version": 3
   },
   "file_extension": ".py",
   "mimetype": "text/x-python",
   "name": "python",
   "nbconvert_exporter": "python",
   "pygments_lexer": "ipython3",
   "version": "3.7.1"
  }
 },
 "nbformat": 4,
 "nbformat_minor": 2
}
